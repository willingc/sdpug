{
 "metadata": {
  "name": "",
  "signature": "sha256:0652afb0af577516fa0d23640fcef5ebc2df7de664682ed637e8464f4209b3ed"
 },
 "nbformat": 3,
 "nbformat_minor": 0,
 "worksheets": [
  {
   "cells": [
    {
     "cell_type": "heading",
     "level": 3,
     "metadata": {},
     "source": [
      "San Diego Python User Group<br>\n",
      "Monthly Meeting 07/24/2014<br><br>\n"
     ]
    },
    {
     "cell_type": "heading",
     "level": 1,
     "metadata": {},
     "source": [
      "Greetings from \"Jupyter\"<br>\n",
      "A SciPy 2014 Space Adventure "
     ]
    },
    {
     "cell_type": "heading",
     "level": 2,
     "metadata": {},
     "source": [
      "Background"
     ]
    },
    {
     "cell_type": "heading",
     "level": 3,
     "metadata": {},
     "source": [
      "What is it?"
     ]
    },
    {
     "cell_type": "markdown",
     "metadata": {},
     "source": [
      "Python's largest conference focused on scientific computing. https://conference.scipy.org/scipy2014/"
     ]
    },
    {
     "cell_type": "heading",
     "level": 3,
     "metadata": {},
     "source": [
      "What happens at SciPy? "
     ]
    },
    {
     "cell_type": "markdown",
     "metadata": {},
     "source": [
      "\n",
      "Tutorials, talks, and project sprints. Poster session as well as opportunites for Birds of a Feather (BOFs) sessions and evening events. Check out this year's schedule https://conference.scipy.org/scipy2014/schedule/\n"
     ]
    },
    {
     "cell_type": "heading",
     "level": 3,
     "metadata": {},
     "source": [
      "What topics are covered? "
     ]
    },
    {
     "cell_type": "markdown",
     "metadata": {},
     "source": [
      "Education, reproducible science, astronomy, machine learning, visualization, geodata, packaging, tools, biology, image processing, data visualization, and much more."
     ]
    },
    {
     "cell_type": "heading",
     "level": 2,
     "metadata": {},
     "source": [
      "Breaking news - Project Jupyter"
     ]
    },
    {
     "cell_type": "markdown",
     "metadata": {},
     "source": [
      "Keep an eye on Project Jupyter and how it will expand accessibility to scientific research, collaboration, and research.<br>\n",
      "What is Jupyter? http://jupyter.org/\n",
      "More information to come soon about Python, R, and Julia with notebooks.\n",
      "coLaboratory https://colaboratory.jupyter.org/welcome/"
     ]
    },
    {
     "cell_type": "heading",
     "level": 2,
     "metadata": {},
     "source": [
      "Three Keynotes"
     ]
    },
    {
     "cell_type": "markdown",
     "metadata": {},
     "source": [
      "Each speaker shared their perspective on Python, education, and the tools that aid teaching and learning. "
     ]
    },
    {
     "cell_type": "markdown",
     "metadata": {},
     "source": [
      "<b>Lorena Barba, Professor, George Washington University</b>\n",
      "\n",
      "Keynote: Computational Thinking is Computational Learning\n",
      "http://pyvideo.org/video/2719/keynote-lorena-barba"
     ]
    },
    {
     "cell_type": "markdown",
     "metadata": {},
     "source": [
      "<b>Nick Coghlan (Python Core Developer and BDFL for Packaging)</b>\n",
      "\n",
      "Python Beyond CPython: Adventures in Software Distribution    \n",
      "http://pyvideo.org/video/2785/python-beyond-cpython-adventures-in-software-dis"
     ]
    },
    {
     "cell_type": "markdown",
     "metadata": {},
     "source": [
      "<b>Greg Wilson, Software Carpentry</b>\n",
      "\n",
      "Software Carpentry: Lessons Learned\n",
      "http://pyvideo.org/video/2812/software-carpentry-lessons-learned-0"
     ]
    },
    {
     "cell_type": "heading",
     "level": 2,
     "metadata": {},
     "source": [
      "In Depth Tutorials"
     ]
    },
    {
     "cell_type": "markdown",
     "metadata": {},
     "source": [
      "You can find recordings of all the tutorials at pyvideo.org http://pyvideo.org/category/51/scipy-2014.\n",
      "\n",
      "Here are some favorites of mine and other conference attendees (disclaimer: I heard only positive feedback on all the tutorials)."
     ]
    },
    {
     "cell_type": "markdown",
     "metadata": {},
     "source": [
      "My personal favorite tutorial was <b>Image Analysis with SciPy and scikit image</b>. It was a well organized and clearly presented introduction to using scikit image to manipulate photos. http://pyvideo.org/video/2863/image-analysis-with-scikit-image-part-1  Here's a brief summary:  From telescopes to satellite cameras to electron microscopes, scientists are producing more images than they can manually inspect. This tutorial will introduce automated image analysis using the \"images as numpy arrays\" abstraction, run through various fundamental image analysis operations (filters, morphology, segmentation), and finally complete one or two more advanced real-world examples."
     ]
    },
    {
     "cell_type": "markdown",
     "metadata": {},
     "source": [
      "<b>Teaching Numerical Methods with IPython notebooks</b> received rave reviews from those that attended this tutorial session. Don't let the math in the title scare you off from watching this. The tutorial focuses on how IPython notebooks can be used in teaching. I'm looking forward to watching this tutorial. http://pyvideo.org/video/2860/teaching-numerical-methods-part-1\n"
     ]
    },
    {
     "cell_type": "markdown",
     "metadata": {},
     "source": [
      "<b>Reproducible Science</b> was a big theme at this year's SciPy conference. Here's a tutorial devoted to it.\n",
      "http://pyvideo.org/video/2742/reproducible-science-walking-the-walk-part-1  Here's a brief summary:\n",
      "This tutorial will train reproducible research warriors on the practices and tools that make experimental verification possible with an end-to-end data analysis workflow.  The tutorial will expose attendees to open science methods during data gathering, storage, analysis up to publication into a reproducible article.  Attendees are expected to have basic familiarity with scientific Python and Git."
     ]
    },
    {
     "cell_type": "heading",
     "level": 2,
     "metadata": {},
     "source": [
      "Parting Thoughts"
     ]
    },
    {
     "cell_type": "markdown",
     "metadata": {},
     "source": [
      "I enjoyed attending SciPy 2014 and found the quality of talks to be excellent. I will definitely return next year. I encourage user group members who are interested in science or education to consider proposing a talk or submitting a poster early next year when the CFP (call for proposals) opens. Austin TX is fun too, especially if you are a music lover."
     ]
    },
    {
     "cell_type": "heading",
     "level": 4,
     "metadata": {},
     "source": [
      "\n",
      "\n",
      "Carol Willing<br>\n",
      "\n",
      "@willingcarol\u00b6<br>\n",
      "\n",
      "PyLadies San Diego "
     ]
    },
    {
     "cell_type": "code",
     "collapsed": false,
     "input": [],
     "language": "python",
     "metadata": {},
     "outputs": []
    }
   ],
   "metadata": {}
  }
 ]
}